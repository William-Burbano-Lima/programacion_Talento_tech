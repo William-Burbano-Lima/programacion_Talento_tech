{
  "cells": [
    {
      "cell_type": "markdown",
      "metadata": {
        "id": "SkvFkNAC-pbH"
      },
      "source": [
        "# Talento Tech\n",
        "---\n",
        "Bootcamp PROGRAMACIÓN\n",
        "\n",
        "**Nivel Explorador**\n",
        "\n",
        "**Ejecutor Técnico:** *Ing. William Burbano Lima*\n",
        "***\n",
        "\n",
        "# Ejercitaciones en Python\n",
        "\n",
        "Este notebook está diseñado para que resuelvas los ejercicios de programación propuestos. Contiene explicaciones y celdas de código **vacías** para que completes con tus soluciones.\n",
        "\n",
        "Tiempo estimado de trabajo: **4 horas**."
      ]
    },
    {
      "cell_type": "markdown",
      "source": [
        "*Campista:*"
      ],
      "metadata": {
        "id": "5Q1BkbEWeyvv"
      }
    },
    {
      "cell_type": "code",
      "source": [
        "# Aquí presentación: del Campista, sus datos"
      ],
      "metadata": {
        "id": "wExbPYfKei0a"
      },
      "execution_count": null,
      "outputs": []
    },
    {
      "cell_type": "markdown",
      "source": [
        "\n",
        "---\n",
        "\n",
        "# 📘 Introducción a la Clase\n",
        "\n",
        "En esta sesión de **4 horas** exploraremos conceptos fundamentales de la **programación orientada a objetos en Python**, aplicándolos a problemas prácticos y de la vida real.\n",
        "\n",
        "La clase está diseñada para que los estudiantes puedan:\n",
        "\n",
        "* Comprender cómo crear y utilizar **clases y objetos**.\n",
        "* Aplicar principios de **encapsulamiento y herencia** de manera sencilla.\n",
        "* Desarrollar habilidades para **estructurar proyectos** en Python.\n",
        "* Resolver problemas relacionados con la creación de figuras geométricas, manejo de cadenas, conversión de números y, finalmente, construir un **sistema de gestión de estudiantes y notas**.\n",
        "\n",
        "El trabajo se dividirá en dos momentos:\n",
        "\n",
        "1. **Exploración y práctica guiada**: resolver los ejercicios en el notebook de plantilla con celdas activas.\n",
        "2. **Revisión y análisis de soluciones**: entregar el notebook con ejercicios resueltos y comentados.\n",
        "\n",
        "---\n",
        "\n",
        "# 🎯 Objetivos de la Clase\n",
        "\n",
        "## Objetivo General\n",
        "\n",
        "Desarrollar competencias en la programación orientada a objetos en Python mediante la resolución de problemas prácticos y la implementación de un sistema de gestión básico, fortaleciendo la lógica y el pensamiento computacional.\n",
        "\n",
        "## Objetivos Específicos\n",
        "\n",
        "* Identificar los elementos principales de una clase en Python: atributos, métodos y constructores.\n",
        "* Implementar clases para resolver problemas básicos de geometría y manipulación de cadenas.\n",
        "* Construir programas que conviertan números enteros a romanos y viceversa, aplicando lógica secuencial y condicional.\n",
        "* Diseñar un **sistema de gestión de estudiantes y notas** aplicando encapsulamiento y herencia.\n",
        "* Desarrollar habilidades de prueba, depuración y documentación de código en Python.\n",
        "* Fomentar el trabajo autónomo y colaborativo mediante la práctica activa en Google Colab.\n",
        "\n",
        "---\n"
      ],
      "metadata": {
        "id": "8V8qd2KjAizs"
      }
    },
    {
      "cell_type": "markdown",
      "metadata": {
        "id": "ujtnbwSS-pbJ"
      },
      "source": [
        "## Ejercicio 1: Clase Círculo\n",
        "Crea una clase llamada `Circulo` que contenga un radio y tenga métodos para calcular el **área** y el **perímetro**."
      ]
    },
    {
      "cell_type": "code",
      "execution_count": null,
      "metadata": {
        "id": "mQVfBpH7-pbK"
      },
      "outputs": [],
      "source": [
        "# Escribe tu código aquí\n"
      ]
    },
    {
      "cell_type": "markdown",
      "metadata": {
        "id": "X06lkGag-pbL"
      },
      "source": [
        "## Ejercicio 2: Clase Rectángulo\n",
        "Crea una clase llamada `Rectangulo` que contenga una base y una altura, y tenga un método que devuelva el **área** del rectángulo."
      ]
    },
    {
      "cell_type": "code",
      "execution_count": null,
      "metadata": {
        "id": "1ifp6WVz-pbM"
      },
      "outputs": [],
      "source": [
        "# Escribe tu código aquí\n"
      ]
    },
    {
      "cell_type": "markdown",
      "metadata": {
        "id": "LJH8gm5S-pbM"
      },
      "source": [
        "## Ejercicio 3: Clase de cadenas\n",
        "Crea una clase con dos métodos:\n",
        "- `get_string()`: acepta una cadena ingresada por el usuario.\n",
        "- `print_string()`: imprime la cadena en mayúsculas."
      ]
    },
    {
      "cell_type": "code",
      "execution_count": null,
      "metadata": {
        "id": "GHYznKMw-pbM"
      },
      "outputs": [],
      "source": [
        "# Escribe tu código aquí\n"
      ]
    },
    {
      "cell_type": "markdown",
      "metadata": {
        "id": "mH5pp00q-pbN"
      },
      "source": [
        "## Ejercicio 4: Entero a Número Romano\n",
        "Escribe una clase que convierta un número entero a número romano."
      ]
    },
    {
      "cell_type": "code",
      "execution_count": null,
      "metadata": {
        "id": "2gYkYtY1-pbN"
      },
      "outputs": [],
      "source": [
        "# Escribe tu código aquí\n"
      ]
    },
    {
      "cell_type": "markdown",
      "metadata": {
        "id": "NLleeIcc-pbO"
      },
      "source": [
        "## Ejercicio 5: Número Romano a Entero\n",
        "Escribe una clase que convierta un número romano en un número entero."
      ]
    },
    {
      "cell_type": "code",
      "execution_count": null,
      "metadata": {
        "id": "bSwnlDCF-pbO"
      },
      "outputs": [],
      "source": [
        "# Escribe tu código aquí\n"
      ]
    },
    {
      "cell_type": "markdown",
      "metadata": {
        "id": "6qAH_OTU-pbO"
      },
      "source": [
        "## Proyecto: Sistema de Gestión de Estudiantes y Notas\n",
        "Implementa un sistema que permita:\n",
        "- Agregar, eliminar y modificar estudiantes.\n",
        "- Agregar, eliminar y modificar asignaturas.\n",
        "- Asignar notas a estudiantes en diferentes asignaturas.\n",
        "- Consultar notas y promedios por estudiante y por asignatura.\n",
        "\n",
        "Utiliza **encapsulamiento y herencia** donde sea necesario.\n"
      ]
    },
    {
      "cell_type": "code",
      "execution_count": null,
      "metadata": {
        "id": "cCGOSI-7-pbP"
      },
      "outputs": [],
      "source": [
        "# Escribe tu código aquí\n"
      ]
    },
    {
      "cell_type": "markdown",
      "source": [
        "***Conclusiones de clase:***"
      ],
      "metadata": {
        "id": "3fFQEzfxe63f"
      }
    },
    {
      "cell_type": "markdown",
      "source": [],
      "metadata": {
        "id": "CNbheHotfEJG"
      }
    },
    {
      "cell_type": "code",
      "source": [],
      "metadata": {
        "id": "ea_rd41qfDH4"
      },
      "execution_count": null,
      "outputs": []
    }
  ],
  "metadata": {
    "kernelspec": {
      "display_name": "Python 3",
      "language": "python",
      "name": "python3"
    },
    "colab": {
      "provenance": []
    }
  },
  "nbformat": 4,
  "nbformat_minor": 0
}
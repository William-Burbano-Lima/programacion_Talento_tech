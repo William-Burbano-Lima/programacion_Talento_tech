{
  "cells": [
    {
      "cell_type": "markdown",
      "metadata": {
        "id": "view-in-github",
        "colab_type": "text"
      },
      "source": [
        "<a href=\"https://colab.research.google.com/github/William-Burbano-Lima/programacion_Talento_tech/blob/main/Ejercitaciones_Python_Resuelto_Comentado.ipynb\" target=\"_parent\"><img src=\"https://colab.research.google.com/assets/colab-badge.svg\" alt=\"Open In Colab\"/></a>"
      ]
    },
    {
      "cell_type": "markdown",
      "metadata": {
        "id": "co9Xm_C7D9XD"
      },
      "source": [
        "# Ejercitaciones en Python - Soluciones Comentadas\n",
        "\n",
        "Este notebook contiene las soluciones completas a los ejercicios propuestos, con **comentarios detallados y explicaciones paso a paso** pensadas para estudiantes principiantes.\n",
        "\n",
        "Tiempo estimado de repaso: **4 horas**."
      ]
    },
    {
      "cell_type": "markdown",
      "metadata": {
        "id": "4e07RCxsD9XH"
      },
      "source": [
        "## Ejercicio 1: Clase Círculo"
      ]
    },
    {
      "cell_type": "code",
      "execution_count": null,
      "metadata": {
        "id": "4p-njm-VD9XI"
      },
      "outputs": [],
      "source": [
        "import math\n",
        "\n",
        "class Circulo:\n",
        "    \"\"\"Representa un círculo con un radio dado.\n",
        "    Métodos:\n",
        "        - area(): calcula el área (π * r^2).\n",
        "        - perimetro(): calcula el perímetro (circunferencia, 2 * π * r).\n",
        "    \"\"\"\n",
        "    def __init__(self, radio: float):\n",
        "        # Guardamos el radio como float para asegurar precisión en cálculos\n",
        "        self.radio = float(radio)\n",
        "\n",
        "    def area(self) -> float:\n",
        "        \"\"\"Devuelve el área del círculo\"\"\"\n",
        "        return math.pi * (self.radio ** 2)\n",
        "\n",
        "    def perimetro(self) -> float:\n",
        "        \"\"\"Devuelve el perímetro del círculo\"\"\"\n",
        "        return 2 * math.pi * self.radio\n",
        "\n",
        "# Ejemplo de uso\n",
        "c = Circulo(5)\n",
        "print(\"Área:\", c.area())\n",
        "print(\"Perímetro:\", c.perimetro())"
      ]
    },
    {
      "cell_type": "markdown",
      "source": [
        "**Versión 2 con input**"
      ],
      "metadata": {
        "id": "JNhojBFdGWNb"
      }
    },
    {
      "cell_type": "code",
      "source": [
        "import math\n",
        "\n",
        "class Circulo:\n",
        "    def __init__(self, radio: float):\n",
        "        self.radio = float(radio)\n",
        "\n",
        "    def area(self):\n",
        "        return math.pi * (self.radio ** 2)\n",
        "\n",
        "    def perimetro(self):\n",
        "        return 2 * math.pi * self.radio\n",
        "\n",
        "# Uso interactivo\n",
        "radio = float(input(\"Ingresa el radio del círculo: \"))\n",
        "c = Circulo(radio)\n",
        "print(\"Área:\", c.area())\n",
        "print(\"Perímetro:\", c.perimetro())\n"
      ],
      "metadata": {
        "colab": {
          "base_uri": "https://localhost:8080/"
        },
        "id": "fjjpytNtGd2t",
        "outputId": "40835db1-347b-4d7c-a1b9-3af0698e5bc2"
      },
      "execution_count": 1,
      "outputs": [
        {
          "output_type": "stream",
          "name": "stdout",
          "text": [
            "Ingresa el radio del círculo: 5\n",
            "Área: 78.53981633974483\n",
            "Perímetro: 31.41592653589793\n"
          ]
        }
      ]
    },
    {
      "cell_type": "markdown",
      "metadata": {
        "id": "r7Ag3cwDD9XK"
      },
      "source": [
        "## Ejercicio 2: Clase Rectángulo"
      ]
    },
    {
      "cell_type": "code",
      "execution_count": null,
      "metadata": {
        "id": "DLZG6mZ2D9XL"
      },
      "outputs": [],
      "source": [
        "class Rectangulo:\n",
        "    \"\"\"Representa un rectángulo con base y altura.\n",
        "    Métodos:\n",
        "        - area(): devuelve el área del rectángulo (base * altura).\n",
        "    \"\"\"\n",
        "    def __init__(self, base: float, altura: float):\n",
        "        self.base = float(base)\n",
        "        self.altura = float(altura)\n",
        "\n",
        "    def area(self) -> float:\n",
        "        return self.base * self.altura\n",
        "\n",
        "# Ejemplo de uso\n",
        "r = Rectangulo(4, 6)\n",
        "print(\"Área:\", r.area())"
      ]
    },
    {
      "cell_type": "markdown",
      "source": [
        "**Version 2 con input**"
      ],
      "metadata": {
        "id": "-tq-GhPZGwCU"
      }
    },
    {
      "cell_type": "code",
      "source": [
        "class Rectangulo:\n",
        "    def __init__(self, base: float, altura: float):\n",
        "        self.base = float(base)\n",
        "        self.altura = float(altura)\n",
        "\n",
        "    def area(self):\n",
        "        return self.base * self.altura\n",
        "\n",
        "# Uso interactivo\n",
        "base = float(input(\"Ingresa la base del rectángulo: \"))\n",
        "altura = float(input(\"Ingresa la altura del rectángulo: \"))\n",
        "r = Rectangulo(base, altura)\n",
        "print(\"Área:\", r.area())\n"
      ],
      "metadata": {
        "colab": {
          "base_uri": "https://localhost:8080/"
        },
        "id": "1Atc9YujG23d",
        "outputId": "e179690a-637a-48d4-980a-4503f3283ccc"
      },
      "execution_count": 2,
      "outputs": [
        {
          "output_type": "stream",
          "name": "stdout",
          "text": [
            "Ingresa la base del rectángulo: 4\n",
            "Ingresa la altura del rectángulo: 6\n",
            "Área: 24.0\n"
          ]
        }
      ]
    },
    {
      "cell_type": "markdown",
      "metadata": {
        "id": "M-wBz6MvD9XM"
      },
      "source": [
        "## Ejercicio 3: Clase de cadenas"
      ]
    },
    {
      "cell_type": "code",
      "execution_count": null,
      "metadata": {
        "id": "QBMtW5-XD9XM"
      },
      "outputs": [],
      "source": [
        "class ManejoCadena:\n",
        "    \"\"\"Permite almacenar una cadena y luego imprimirla en mayúsculas.\"\"\"\n",
        "    def __init__(self):\n",
        "        self.cadena = \"\"\n",
        "\n",
        "    def get_string(self, cadena: str) -> None:\n",
        "        \"\"\"Guarda la cadena ingresada.\"\"\"\n",
        "        self.cadena = cadena\n",
        "\n",
        "    def print_string(self) -> None:\n",
        "        \"\"\"Imprime la cadena en mayúsculas.\"\"\"\n",
        "        print(self.cadena.upper())\n",
        "\n",
        "# Ejemplo de uso\n",
        "m = ManejoCadena()\n",
        "m.get_string(\"hola mundo\")\n",
        "m.print_string()"
      ]
    },
    {
      "cell_type": "markdown",
      "source": [
        "**Version 2 con input**"
      ],
      "metadata": {
        "id": "zqG2QT75HFlt"
      }
    },
    {
      "cell_type": "code",
      "source": [
        "class ManejoCadena:\n",
        "    def __init__(self):\n",
        "        self.cadena = \"\"\n",
        "\n",
        "    def get_string(self, cadena: str):\n",
        "        self.cadena = cadena\n",
        "\n",
        "    def print_string(self):\n",
        "        print(self.cadena.upper())\n",
        "\n",
        "# Uso interactivo\n",
        "texto = input(\"Ingresa una cadena de texto: \")\n",
        "m = ManejoCadena()\n",
        "m.get_string(texto)\n",
        "m.print_string()\n"
      ],
      "metadata": {
        "colab": {
          "base_uri": "https://localhost:8080/"
        },
        "id": "mzwYKg06HJ_Y",
        "outputId": "71a8d7af-f6d3-4895-ce98-2b6f947ad56e"
      },
      "execution_count": 3,
      "outputs": [
        {
          "output_type": "stream",
          "name": "stdout",
          "text": [
            "Ingresa una cadena de texto: hola mundo\n",
            "HOLA MUNDO\n"
          ]
        }
      ]
    },
    {
      "cell_type": "markdown",
      "metadata": {
        "id": "JOfHFpATD9XN"
      },
      "source": [
        "## Ejercicio 4: Entero a Número Romano"
      ]
    },
    {
      "cell_type": "code",
      "execution_count": null,
      "metadata": {
        "id": "QhI5jyk4D9XO"
      },
      "outputs": [],
      "source": [
        "class EnteroARomano:\n",
        "    \"\"\"Convierte números enteros en números romanos.\"\"\"\n",
        "    def convertir(self, numero: int) -> str:\n",
        "        valores = [1000, 900, 500, 400, 100, 90, 50, 40, 10, 9, 5, 4, 1]\n",
        "        simbolos = [\"M\", \"CM\", \"D\", \"CD\", \"C\", \"XC\", \"L\", \"XL\", \"X\", \"IX\", \"V\", \"IV\", \"I\"]\n",
        "        resultado = \"\"\n",
        "        for i in range(len(valores)):\n",
        "            while numero >= valores[i]:\n",
        "                resultado += simbolos[i]\n",
        "                numero -= valores[i]\n",
        "        return resultado\n",
        "\n",
        "# Ejemplo de uso\n",
        "conv = EnteroARomano()\n",
        "print(conv.convertir(1994))"
      ]
    },
    {
      "cell_type": "markdown",
      "source": [
        "**Version 2 con input**"
      ],
      "metadata": {
        "id": "TpNa7oSKHYmg"
      }
    },
    {
      "cell_type": "code",
      "source": [
        "class EnteroARomano:\n",
        "    def convertir(self, numero: int) -> str:\n",
        "        valores = [1000, 900, 500, 400, 100, 90, 50, 40, 10, 9, 5, 4, 1]\n",
        "        simbolos = [\"M\", \"CM\", \"D\", \"CD\", \"C\", \"XC\", \"L\", \"XL\", \"X\", \"IX\", \"V\", \"IV\", \"I\"]\n",
        "        resultado = \"\"\n",
        "        for i in range(len(valores)):\n",
        "            while numero >= valores[i]:\n",
        "                resultado += simbolos[i]\n",
        "                numero -= valores[i]\n",
        "        return resultado\n",
        "\n",
        "# Uso interactivo\n",
        "numero = int(input(\"Ingresa un número entero para convertir a romano: \"))\n",
        "conv = EnteroARomano()\n",
        "print(\"Número romano:\", conv.convertir(numero))\n"
      ],
      "metadata": {
        "colab": {
          "base_uri": "https://localhost:8080/"
        },
        "id": "Q3F_KLzbHdEq",
        "outputId": "11e1734e-c703-4954-8562-40ae015fd822"
      },
      "execution_count": 4,
      "outputs": [
        {
          "output_type": "stream",
          "name": "stdout",
          "text": [
            "Ingresa un número entero para convertir a romano: 2025\n",
            "Número romano: MMXXV\n"
          ]
        }
      ]
    },
    {
      "cell_type": "markdown",
      "metadata": {
        "id": "GJb_1qMZD9XP"
      },
      "source": [
        "## Ejercicio 5: Número Romano a Entero"
      ]
    },
    {
      "cell_type": "code",
      "execution_count": null,
      "metadata": {
        "id": "AV_rOvr9D9XP"
      },
      "outputs": [],
      "source": [
        "class RomanoAEntero:\n",
        "    \"\"\"Convierte números romanos en enteros.\"\"\"\n",
        "    def convertir(self, romano: str) -> int:\n",
        "        valores = {\"I\": 1, \"V\": 5, \"X\": 10, \"L\": 50, \"C\": 100, \"D\": 500, \"M\": 1000}\n",
        "        total = 0\n",
        "        prev = 0\n",
        "        # Recorremos de derecha a izquierda para manejar casos de resta\n",
        "        for letra in romano[::-1]:\n",
        "            valor = valores[letra]\n",
        "            if valor < prev:\n",
        "                total -= valor  # Ej: IV = 5 - 1 = 4\n",
        "            else:\n",
        "                total += valor\n",
        "            prev = valor\n",
        "        return total\n",
        "\n",
        "# Ejemplo de uso\n",
        "conv = RomanoAEntero()\n",
        "print(conv.convertir(\"MCMXCIV\"))"
      ]
    },
    {
      "cell_type": "markdown",
      "source": [
        "**Version 2 con input**"
      ],
      "metadata": {
        "id": "AoTQTbhOHs3P"
      }
    },
    {
      "cell_type": "code",
      "source": [
        "class RomanoAEntero:\n",
        "    def convertir(self, romano: str) -> int:\n",
        "        valores = {\"I\": 1, \"V\": 5, \"X\": 10, \"L\": 50, \"C\": 100, \"D\": 500, \"M\": 1000}\n",
        "        total = 0\n",
        "        prev = 0\n",
        "        for letra in romano[::-1]:\n",
        "            valor = valores[letra]\n",
        "            if valor < prev:\n",
        "                total -= valor  # Caso especial de resta\n",
        "            else:\n",
        "                total += valor\n",
        "            prev = valor\n",
        "        return total\n",
        "\n",
        "# Uso interactivo\n",
        "romano = input(\"Ingresa un número romano para convertir a entero: \")\n",
        "conv = RomanoAEntero()\n",
        "print(\"Número entero:\", conv.convertir(romano))\n"
      ],
      "metadata": {
        "colab": {
          "base_uri": "https://localhost:8080/"
        },
        "id": "q-qKqAQSH2G2",
        "outputId": "0b336f2c-ea5c-481a-abf6-a37601018762"
      },
      "execution_count": 5,
      "outputs": [
        {
          "output_type": "stream",
          "name": "stdout",
          "text": [
            "Ingresa un número romano para convertir a entero: XXVVVI\n",
            "Número entero: 36\n"
          ]
        }
      ]
    },
    {
      "cell_type": "markdown",
      "metadata": {
        "id": "gzLjBU71D9XQ"
      },
      "source": [
        "## Proyecto: Sistema de Gestión de Estudiantes y Notas"
      ]
    },
    {
      "cell_type": "code",
      "execution_count": 2,
      "metadata": {
        "colab": {
          "base_uri": "https://localhost:8080/"
        },
        "id": "C6BG1BkCD9XQ",
        "outputId": "330a5a02-ff63-4c88-ff53-139ac37ee2f6"
      },
      "outputs": [
        {
          "output_type": "stream",
          "name": "stdout",
          "text": [
            "Notas de Juan Pérez (Edad: 20):\n",
            "Matemáticas: 90\n",
            "Ciencias: 85\n",
            "Notas de María Gómez (Edad: 22):\n",
            "Matemáticas: 88\n",
            "Ciencias: 92\n",
            "Promedio de Juan Pérez (Edad: 20): 87.5\n",
            "Promedio de María Gómez (Edad: 22): 90.0\n",
            "Promedio de Matemáticas: 89.0\n",
            "Promedio de Ciencias: 88.5\n"
          ]
        }
      ],
      "source": [
        "class Estudiante:\n",
        "    \"\"\"Representa un estudiante con sus datos y notas.\"\"\"\n",
        "    def __init__(self, nombre: str, apellido: str, edad: int):\n",
        "        self.nombre = nombre\n",
        "        self.apellido = apellido\n",
        "        self.edad = edad\n",
        "        self.notas = {}  # Diccionario asignatura: nota\n",
        "\n",
        "    def agregar_nota(self, asignatura, nota: float) -> None:\n",
        "        self.notas[asignatura] = nota\n",
        "\n",
        "    def promedio_general(self) -> float:\n",
        "        if not self.notas:\n",
        "            return 0\n",
        "        return sum(self.notas.values()) / len(self.notas)\n",
        "\n",
        "    def __str__(self):\n",
        "        return f\"{self.nombre} {self.apellido} (Edad: {self.edad})\"\n",
        "\n",
        "class Asignatura:\n",
        "    \"\"\"Representa una asignatura con estudiantes y sus notas.\"\"\"\n",
        "    def __init__(self, nombre: str):\n",
        "        self.nombre = nombre\n",
        "        self.estudiantes = {}  # Diccionario estudiante: nota\n",
        "\n",
        "    def agregar_estudiante(self, estudiante, nota: float) -> None:\n",
        "        self.estudiantes[estudiante] = nota\n",
        "\n",
        "    def promedio_asignatura(self) -> float:\n",
        "        if not self.estudiantes:\n",
        "            return 0\n",
        "        return sum(self.estudiantes.values()) / len(self.estudiantes)\n",
        "\n",
        "    def __str__(self):\n",
        "        return self.nombre\n",
        "\n",
        "class SistemaGestionEstudiantes:\n",
        "    \"\"\"Sistema que permite gestionar estudiantes, asignaturas y notas.\"\"\"\n",
        "    def __init__(self):\n",
        "        self.estudiantes = {}\n",
        "        self.asignaturas = {}\n",
        "\n",
        "    def agregar_estudiante(self, estudiante):\n",
        "        self.estudiantes[estudiante] = True\n",
        "\n",
        "    def eliminar_estudiante(self, estudiante):\n",
        "        if estudiante in self.estudiantes:\n",
        "            del self.estudiantes[estudiante]\n",
        "\n",
        "    def agregar_asignatura(self, asignatura):\n",
        "        self.asignaturas[asignatura] = True\n",
        "\n",
        "    def eliminar_asignatura(self, asignatura):\n",
        "        if asignatura in self.asignaturas:\n",
        "            del self.asignaturas[asignatura]\n",
        "\n",
        "    def asignar_nota(self, estudiante, asignatura, nota: float):\n",
        "        if estudiante in self.estudiantes and asignatura in self.asignaturas:\n",
        "            asignatura.agregar_estudiante(estudiante, nota)\n",
        "            estudiante.agregar_nota(asignatura, nota)\n",
        "\n",
        "    def mostrar_notas_estudiante(self, estudiante):\n",
        "        if estudiante in self.estudiantes:\n",
        "            print(f\"Notas de {estudiante}:\")\n",
        "            for asignatura, nota in estudiante.notas.items():\n",
        "                print(f\"{asignatura}: {nota}\")\n",
        "\n",
        "    def promedio_general_estudiante(self, estudiante):\n",
        "        if estudiante in self.estudiantes:\n",
        "            print(f\"Promedio de {estudiante}: {estudiante.promedio_general()}\")\n",
        "\n",
        "    def promedio_asignatura(self, asignatura):\n",
        "        if asignatura in self.asignaturas:\n",
        "            print(f\"Promedio de {asignatura}: {asignatura.promedio_asignatura()}\")\n",
        "\n",
        "# Ejemplo de uso\n",
        "sistema = SistemaGestionEstudiantes()\n",
        "estudiante1 = Estudiante(\"Juan\", \"Pérez\", 20)\n",
        "estudiante2 = Estudiante(\"María\", \"Gómez\", 22)\n",
        "asignatura1 = Asignatura(\"Matemáticas\")\n",
        "asignatura2 = Asignatura(\"Ciencias\")\n",
        "sistema.agregar_estudiante(estudiante1)\n",
        "sistema.agregar_estudiante(estudiante2)\n",
        "sistema.agregar_asignatura(asignatura1)\n",
        "sistema.agregar_asignatura(asignatura2)\n",
        "sistema.asignar_nota(estudiante1, asignatura1, 90)\n",
        "sistema.asignar_nota(estudiante1, asignatura2, 85)\n",
        "sistema.asignar_nota(estudiante2, asignatura1, 88)\n",
        "sistema.asignar_nota(estudiante2, asignatura2, 92)\n",
        "sistema.mostrar_notas_estudiante(estudiante1)\n",
        "sistema.mostrar_notas_estudiante(estudiante2)\n",
        "sistema.promedio_general_estudiante(estudiante1)\n",
        "sistema.promedio_general_estudiante(estudiante2)\n",
        "sistema.promedio_asignatura(asignatura1)\n",
        "sistema.promedio_asignatura(asignatura2)"
      ]
    },
    {
      "cell_type": "markdown",
      "source": [
        "**Version 2 con input**"
      ],
      "metadata": {
        "id": "S7hESUcdIGxs"
      }
    },
    {
      "cell_type": "code",
      "source": [
        "class Estudiante:\n",
        "    def __init__(self, nombre, apellido, edad):\n",
        "        self.nombre = nombre\n",
        "        self.apellido = apellido\n",
        "        self.edad = edad\n",
        "        self.notas = {}\n",
        "\n",
        "    def agregar_nota(self, asignatura, nota):\n",
        "        self.notas[asignatura] = nota\n",
        "\n",
        "    def promedio_general(self):\n",
        "        if not self.notas:\n",
        "            return 0\n",
        "        return sum(self.notas.values()) / len(self.notas)\n",
        "\n",
        "    def __str__(self):\n",
        "        return f\"{self.nombre} {self.apellido} (Edad: {self.edad})\"\n",
        "\n",
        "class Asignatura:\n",
        "    def __init__(self, nombre):\n",
        "        self.nombre = nombre\n",
        "        self.estudiantes = {}\n",
        "\n",
        "    def agregar_estudiante(self, estudiante, nota):\n",
        "        self.estudiantes[estudiante] = nota\n",
        "\n",
        "    def promedio_asignatura(self):\n",
        "        if not self.estudiantes:\n",
        "            return 0\n",
        "        return sum(self.estudiantes.values()) / len(self.estudiantes)\n",
        "\n",
        "    def __str__(self):\n",
        "        return self.nombre\n",
        "\n",
        "class SistemaGestionEstudiantes:\n",
        "    def __init__(self):\n",
        "        self.estudiantes = []\n",
        "        self.asignaturas = []\n",
        "\n",
        "    def agregar_estudiante(self, estudiante):\n",
        "        self.estudiantes.append(estudiante)\n",
        "\n",
        "    def agregar_asignatura(self, asignatura):\n",
        "        self.asignaturas.append(asignatura)\n",
        "\n",
        "# --- Menú interactivo ---\n",
        "sistema = SistemaGestionEstudiantes()\n",
        "\n",
        "while True:\n",
        "    print(\"\\n--- Menú ---\")\n",
        "    print(\"1. Agregar estudiante\")\n",
        "    print(\"2. Agregar asignatura\")\n",
        "    print(\"3. Listar estudiantes\")\n",
        "    print(\"4. Listar asignaturas\")\n",
        "    print(\"5. Salir\")\n",
        "\n",
        "    opcion = input(\"Selecciona una opción: \")\n",
        "\n",
        "    if opcion == \"1\":\n",
        "        nombre = input(\"Nombre del estudiante: \")\n",
        "        apellido = input(\"Apellido del estudiante: \")\n",
        "        edad = int(input(\"Edad del estudiante: \"))\n",
        "        estudiante = Estudiante(nombre, apellido, edad)\n",
        "        sistema.agregar_estudiante(estudiante)\n",
        "        print(\"✅ Estudiante agregado correctamente!\")\n",
        "\n",
        "    elif opcion == \"2\":\n",
        "        nombre_asig = input(\"Nombre de la asignatura: \")\n",
        "        asignatura = Asignatura(nombre_asig)\n",
        "        sistema.agregar_asignatura(asignatura)\n",
        "        print(\"✅ Asignatura agregada correctamente!\")\n",
        "\n",
        "    elif opcion == \"3\":\n",
        "        print(\"\\n👩‍🎓 Lista de estudiantes:\")\n",
        "        for e in sistema.estudiantes:\n",
        "            print(\"-\", e)\n",
        "\n",
        "    elif opcion == \"4\":\n",
        "        print(\"\\n📚 Lista de asignaturas:\")\n",
        "        for a in sistema.asignaturas:\n",
        "            print(\"-\", a)\n",
        "\n",
        "    elif opcion == \"5\":\n",
        "        print(\"Saliendo del sistema...\")\n",
        "        break\n",
        "\n",
        "    else:\n",
        "        print(\"⚠️ Opción no válida, intenta de nuevo.\")\n"
      ],
      "metadata": {
        "colab": {
          "base_uri": "https://localhost:8080/"
        },
        "id": "ycEOEEfrILsY",
        "outputId": "cbdb9968-20d6-4114-a748-25cea4329772"
      },
      "execution_count": 3,
      "outputs": [
        {
          "output_type": "stream",
          "name": "stdout",
          "text": [
            "\n",
            "--- Menú ---\n",
            "1. Agregar estudiante\n",
            "2. Agregar asignatura\n",
            "3. Listar estudiantes\n",
            "4. Listar asignaturas\n",
            "5. Salir\n",
            "Selecciona una opción: 1\n",
            "Nombre del estudiante: Juan\n",
            "Apellido del estudiante: Perez\n",
            "Edad del estudiante: 25\n",
            "✅ Estudiante agregado correctamente!\n",
            "\n",
            "--- Menú ---\n",
            "1. Agregar estudiante\n",
            "2. Agregar asignatura\n",
            "3. Listar estudiantes\n",
            "4. Listar asignaturas\n",
            "5. Salir\n",
            "Selecciona una opción: 2\n",
            "Nombre de la asignatura: Matematicas\n",
            "✅ Asignatura agregada correctamente!\n",
            "\n",
            "--- Menú ---\n",
            "1. Agregar estudiante\n",
            "2. Agregar asignatura\n",
            "3. Listar estudiantes\n",
            "4. Listar asignaturas\n",
            "5. Salir\n",
            "Selecciona una opción: 3\n",
            "\n",
            "👩‍🎓 Lista de estudiantes:\n",
            "- Juan Perez (Edad: 25)\n",
            "\n",
            "--- Menú ---\n",
            "1. Agregar estudiante\n",
            "2. Agregar asignatura\n",
            "3. Listar estudiantes\n",
            "4. Listar asignaturas\n",
            "5. Salir\n",
            "Selecciona una opción: 1\n",
            "Nombre del estudiante: Maria\n",
            "Apellido del estudiante: Velez\n",
            "Edad del estudiante: 24\n",
            "✅ Estudiante agregado correctamente!\n",
            "\n",
            "--- Menú ---\n",
            "1. Agregar estudiante\n",
            "2. Agregar asignatura\n",
            "3. Listar estudiantes\n",
            "4. Listar asignaturas\n",
            "5. Salir\n",
            "Selecciona una opción: 2\n",
            "Nombre de la asignatura: Ciencias\n",
            "✅ Asignatura agregada correctamente!\n",
            "\n",
            "--- Menú ---\n",
            "1. Agregar estudiante\n",
            "2. Agregar asignatura\n",
            "3. Listar estudiantes\n",
            "4. Listar asignaturas\n",
            "5. Salir\n",
            "Selecciona una opción: 4\n",
            "\n",
            "📚 Lista de asignaturas:\n",
            "- Matematicas\n",
            "- Ciencias\n",
            "\n",
            "--- Menú ---\n",
            "1. Agregar estudiante\n",
            "2. Agregar asignatura\n",
            "3. Listar estudiantes\n",
            "4. Listar asignaturas\n",
            "5. Salir\n",
            "Selecciona una opción: 3\n",
            "\n",
            "👩‍🎓 Lista de estudiantes:\n",
            "- Juan Perez (Edad: 25)\n",
            "- Maria Velez (Edad: 24)\n",
            "\n",
            "--- Menú ---\n",
            "1. Agregar estudiante\n",
            "2. Agregar asignatura\n",
            "3. Listar estudiantes\n",
            "4. Listar asignaturas\n",
            "5. Salir\n",
            "Selecciona una opción: 4\n",
            "\n",
            "📚 Lista de asignaturas:\n",
            "- Matematicas\n",
            "- Ciencias\n",
            "\n",
            "--- Menú ---\n",
            "1. Agregar estudiante\n",
            "2. Agregar asignatura\n",
            "3. Listar estudiantes\n",
            "4. Listar asignaturas\n",
            "5. Salir\n",
            "Selecciona una opción: 5\n",
            "Saliendo del sistema...\n"
          ]
        }
      ]
    }
  ],
  "metadata": {
    "kernelspec": {
      "display_name": "Python 3",
      "language": "python",
      "name": "python3"
    },
    "colab": {
      "provenance": [],
      "include_colab_link": true
    }
  },
  "nbformat": 4,
  "nbformat_minor": 0
}